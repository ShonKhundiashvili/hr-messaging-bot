{
 "cells": [
  {
   "cell_type": "code",
   "execution_count": null,
   "id": "1594a438",
   "metadata": {},
   "outputs": [],
   "source": [
    "from selenium import webdriver\n",
    "from selenium.webdriver.common.by import By\n",
    "from selenium.webdriver.support.ui import WebDriverWait\n",
    "from selenium.webdriver.support import expected_conditions as EC\n",
    "from selenium.webdriver.common.action_chains import ActionChains\n",
    "from selenium.webdriver.common.keys import Keys\n",
    "import os\n",
    "from dotenv import load_dotenv\n",
    "import time"
   ]
  },
  {
   "cell_type": "code",
   "execution_count": null,
   "id": "40077e2d",
   "metadata": {},
   "outputs": [],
   "source": [
    "driver = webdriver.Chrome()"
   ]
  },
  {
   "cell_type": "code",
   "execution_count": null,
   "id": "f7772070",
   "metadata": {},
   "outputs": [],
   "source": [
    "driver.get('https://www.linkedin.com/checkpoint/lg/sign-in-another-account')\n",
    "time.sleep(2)"
   ]
  },
  {
   "cell_type": "code",
   "execution_count": null,
   "id": "7445292a",
   "metadata": {},
   "outputs": [],
   "source": [
    "load_dotenv()\n",
    "email = os.getenv('EMAIL')\n",
    "password = os.getenv('PASSWORD')"
   ]
  },
  {
   "cell_type": "code",
   "execution_count": null,
   "id": "66eaffb9",
   "metadata": {},
   "outputs": [],
   "source": [
    "email_input = driver.find_element(By.ID, 'username')\n",
    "password_input = driver.find_element(By.ID, 'password')\n",
    "\n",
    "email_input.send_keys(email)\n",
    "password_input.send_keys(password)\n",
    "password_input.send_keys(Keys.ENTER)\n",
    "base_url = 'https://www.linkedin.com/search/results/people/?keywords=hr&origin=SWITCH_SEARCH_VERTICAL&page={}&sid=m.%3A'\n",
    "\n",
    "try:\n",
    "    for page in range(3, 11):\n",
    "        try:\n",
    "            url = base_url.format(str(page))\n",
    "            driver.get(url)\n",
    "            time.sleep(3)\n",
    "\n",
    "            users = driver.find_elements(By.CLASS_NAME, 'reusable-search__result-container')\n",
    "            for user in users[1:]:\n",
    "                try:\n",
    "                    connect_btn = user.find_element(By.CSS_SELECTOR, \n",
    "                        '.artdeco-button.artdeco-button--2.artdeco-button--secondary.ember-view')\n",
    "                    connect_btn.click()\n",
    "\n",
    "                    actions = ActionChains(driver)\n",
    "                    wait = WebDriverWait(driver, 20)\n",
    "\n",
    "                    button = wait.until(EC.presence_of_element_located((By.CSS_SELECTOR, \n",
    "                        'button.artdeco-button.artdeco-button--muted.artdeco-button--2.artdeco-button--secondary.mr1')))\n",
    "                    \n",
    "                    actions.move_to_element(button).click().perform()\n",
    "\n",
    "                    input_message = wait.until(EC.presence_of_element_located((By.CSS_SELECTOR, \n",
    "                        '.ember-text-area.ember-view.connect-button-send-invite__custom-message.mb3')))\n",
    "                    \n",
    "                    actions.click(on_element=input_message).send_keys('שלום אני שון בוגר תואר ראשון במדעי המחשב. מחפש את המשרה הראשונה שלי. ראיתי שאת מגייסת, במידה ויש משרות פולסטאק או בקאנד שיכולים להיות רלוונטיים אז יותר מאשמח לשלוח לך קורות חיים:) תודה מראש ושבת שלום').perform()\n",
    "\n",
    "                    send_btn = wait.until(EC.presence_of_element_located((By.CSS_SELECTOR, \n",
    "                        '.artdeco-button.artdeco-button--2.artdeco-button--primary.ember-view.ml1')))\n",
    "                    \n",
    "                    actions.move_to_element(send_btn).click().perform()\n",
    "                    \n",
    "                    print('Message has been sent to the HR')\n",
    "\n",
    "                    time.sleep(5)\n",
    "\n",
    "                except Exception as e:\n",
    "                    print(f\"An error occurred while processing a user: {e}\")\n",
    "\n",
    "        except Exception as e:\n",
    "            print(f\"An error occurred while processing page {page}: {e}\")\n",
    "\n",
    "finally:\n",
    "    driver.quit()"
   ]
  }
 ],
 "metadata": {
  "kernelspec": {
   "display_name": "Python 3",
   "language": "python",
   "name": "python3"
  },
  "language_info": {
   "codemirror_mode": {
    "name": "ipython",
    "version": 3
   },
   "file_extension": ".py",
   "mimetype": "text/x-python",
   "name": "python",
   "nbconvert_exporter": "python",
   "pygments_lexer": "ipython3",
   "version": "3.8.8"
  }
 },
 "nbformat": 4,
 "nbformat_minor": 5
}
